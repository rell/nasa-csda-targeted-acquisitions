{
 "cells": [
  {
   "cell_type": "code",
   "execution_count": null,
   "metadata": {
    "pycharm": {
     "name": "#%%\n",
     "is_executing": true
    }
   },
   "outputs": [],
   "source": [
    "import pandas as pd\n",
    "import pickle\n",
    "from os.path import isfile, exists\n",
    "import rapidjson as json\n",
    "import spacy_annotator as spa\n",
    "import spacy\n",
    "import os"
   ]
  },
  {
   "cell_type": "code",
   "execution_count": null,
   "metadata": {
    "pycharm": {
     "name": "#%%\n",
     "is_executing": true
    }
   },
   "outputs": [],
   "source": [
    "from datetime import datetime\n",
    "\n",
    "# datetime object containing current date and time\n",
    "now = datetime.now()\n",
    "dt_string = now.strftime(\"%Y-%m-%d_%H:%M:%S\")\n",
    "\n",
    "# infile = \"Location output.json\"\n",
    "infile = r\"D:/OneDrive/Documents/GitHub/csda-targeted-acquisitions/Extraction Pipeline/output/output.json\"\n",
    "outfile = f\"{dt_string}_output.json\"\n",
    "outfolder = \"output/\"\n",
    "output_loc = outfolder + outfile\n",
    "\n",
    "output_loc"
   ]
  },
  {
   "cell_type": "code",
   "execution_count": 24,
   "metadata": {
    "pycharm": {
     "name": "#%%\n"
    }
   },
   "outputs": [
    {
     "data": {
      "text/html": [
       "<div>\n",
       "<style scoped>\n",
       "    .dataframe tbody tr th:only-of-type {\n",
       "        vertical-align: middle;\n",
       "    }\n",
       "\n",
       "    .dataframe tbody tr th {\n",
       "        vertical-align: top;\n",
       "    }\n",
       "\n",
       "    .dataframe thead th {\n",
       "        text-align: right;\n",
       "    }\n",
       "</style>\n",
       "<table border=\"1\" class=\"dataframe\">\n",
       "  <thead>\n",
       "    <tr style=\"text-align: right;\">\n",
       "      <th></th>\n",
       "      <th>sentences</th>\n",
       "    </tr>\n",
       "  </thead>\n",
       "  <tbody>\n",
       "    <tr>\n",
       "      <th>0</th>\n",
       "      <td>For the third time in a decade the winner of T...</td>\n",
       "    </tr>\n",
       "    <tr>\n",
       "      <th>1</th>\n",
       "      <td>In 2013 readers chose the as the winner of our...</td>\n",
       "    </tr>\n",
       "    <tr>\n",
       "      <th>2</th>\n",
       "      <td>A year later an image of sunglint winds and wa...</td>\n",
       "    </tr>\n",
       "    <tr>\n",
       "      <th>3</th>\n",
       "      <td>In 2022 readers loved the pairing of a photogr...</td>\n",
       "    </tr>\n",
       "    <tr>\n",
       "      <th>4</th>\n",
       "      <td>Ancient Greek Hindu and Buddhist philosophers ...</td>\n",
       "    </tr>\n",
       "    <tr>\n",
       "      <th>...</th>\n",
       "      <td>...</td>\n",
       "    </tr>\n",
       "    <tr>\n",
       "      <th>15416</th>\n",
       "      <td>Clarence Robison Univ</td>\n",
       "    </tr>\n",
       "    <tr>\n",
       "      <th>15417</th>\n",
       "      <td>Idaho Mr</td>\n",
       "    </tr>\n",
       "    <tr>\n",
       "      <th>15418</th>\n",
       "      <td>William Kramber and Tony Morse IDWR and Dr</td>\n",
       "    </tr>\n",
       "    <tr>\n",
       "      <th>15419</th>\n",
       "      <td>Wim Bastiaanssen WaterWater Netherlands</td>\n",
       "    </tr>\n",
       "    <tr>\n",
       "      <th>15420</th>\n",
       "      <td>Land Land</td>\n",
       "    </tr>\n",
       "  </tbody>\n",
       "</table>\n",
       "<p>15421 rows × 1 columns</p>\n",
       "</div>"
      ],
      "text/plain": [
       "                                               sentences\n",
       "0      For the third time in a decade the winner of T...\n",
       "1      In 2013 readers chose the as the winner of our...\n",
       "2      A year later an image of sunglint winds and wa...\n",
       "3      In 2022 readers loved the pairing of a photogr...\n",
       "4      Ancient Greek Hindu and Buddhist philosophers ...\n",
       "...                                                  ...\n",
       "15416                              Clarence Robison Univ\n",
       "15417                                           Idaho Mr\n",
       "15418         William Kramber and Tony Morse IDWR and Dr\n",
       "15419            Wim Bastiaanssen WaterWater Netherlands\n",
       "15420                                          Land Land\n",
       "\n",
       "[15421 rows x 1 columns]"
      ]
     },
     "execution_count": 24,
     "metadata": {},
     "output_type": "execute_result"
    }
   ],
   "source": [
    "\n",
    "json_file = json.load(open(infile, \"r\"))\n",
    "nlp_sentences = []\n",
    "# for key in json_file:\n",
    "#     nlp_sentences.extend(json_file[key][\"text\"])\n",
    "for title in json_file.keys():\n",
    "    nlp_sentences.extend([sentence for sentence in json_file[title]['text'] if sentence != \" \" and sentence != \"\" ])\n",
    "data = {\"sentences\":nlp_sentences}\n",
    "df = pd.DataFrame(data)\n",
    "df"
   ]
  },
  {
   "cell_type": "code",
   "execution_count": 25,
   "metadata": {
    "pycharm": {
     "name": "#%%\n"
    }
   },
   "outputs": [],
   "source": [
    "nlp = spacy.load(\"xx_ent_wiki_sm\")"
   ]
  },
  {
   "cell_type": "code",
   "execution_count": null,
   "metadata": {
    "pycharm": {
     "name": "#%%\n",
     "is_executing": true
    }
   },
   "outputs": [],
   "source": [
    "annotator = spa.Annotator(labels=[\"LOC\", \"ORG\", \"MISC\",\"EVENT\"], model=nlp)\n",
    "df_labels = annotator.annotate(df=df, col_text=\"sentences\", shuffle=False)\n"
   ]
  },
  {
   "cell_type": "code",
   "execution_count": 29,
   "metadata": {
    "pycharm": {
     "name": "#%%\n"
    }
   },
   "outputs": [],
   "source": [
    "df_labels.to_pickle(\"saves/save_data_2.plk\")"
   ]
  },
  {
   "cell_type": "code",
   "execution_count": null,
   "metadata": {
    "pycharm": {
     "name": "#%%\n"
    }
   },
   "outputs": [],
   "source": [
    "annotations_to_save = []\n",
    "for annotation in df_labels[\"annotations\"]:\n",
    "    if annotation != \"\":\n",
    "        annotations_to_save.expand(annotation)\n",
    "# json.dump(df_labels[\"annotations\"], open(outfile, \"w\"))"
   ]
  },
  {
   "cell_type": "code",
   "execution_count": null,
   "outputs": [],
   "source": [
    "# if file count is greater than 30 delete n older than latest 30\n",
    "if os.path.exists(outfolder):\n",
    "    json.dump(annotations_to_save, open(outfile, \"w\"))\n",
    "    print(\"Annotations were successfully saved\")\n",
    "\n",
    "else:\n",
    "    os.mkdir(outfolder)\n",
    "    json.dump(annotations_to_save, open(outfile, \"w\"))\n",
    "    print(\"Annotations were successfully saved\")"
   ],
   "metadata": {
    "collapsed": false,
    "pycharm": {
     "name": "#%%\n"
    }
   }
  }
 ],
 "metadata": {
  "kernelspec": {
   "display_name": "Python 3 (ipykernel)",
   "language": "python",
   "name": "python3"
  },
  "language_info": {
   "codemirror_mode": {
    "name": "ipython",
    "version": 3
   },
   "file_extension": ".py",
   "mimetype": "text/x-python",
   "name": "python",
   "nbconvert_exporter": "python",
   "pygments_lexer": "ipython3",
   "version": "3.10.5"
  }
 },
 "nbformat": 4,
 "nbformat_minor": 1
}